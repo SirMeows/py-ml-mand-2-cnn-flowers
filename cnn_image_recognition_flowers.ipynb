{
  "nbformat": 4,
  "nbformat_minor": 0,
  "metadata": {
    "colab": {
      "provenance": [],
      "authorship_tag": "ABX9TyPv5T681dlKXBZJagwh61DD",
      "include_colab_link": true
    },
    "kernelspec": {
      "name": "python3",
      "display_name": "Python 3"
    },
    "language_info": {
      "name": "python"
    }
  },
  "cells": [
    {
      "cell_type": "markdown",
      "metadata": {
        "id": "view-in-github",
        "colab_type": "text"
      },
      "source": [
        "<a href=\"https://colab.research.google.com/github/SirMeows/py-ml-mand-2-cnn-flowers/blob/main/cnn_image_recognition_flowers.ipynb\" target=\"_parent\"><img src=\"https://colab.research.google.com/assets/colab-badge.svg\" alt=\"Open In Colab\"/></a>"
      ]
    },
    {
      "cell_type": "code",
      "execution_count": 63,
      "metadata": {
        "id": "c1QnVhL4u_4D"
      },
      "outputs": [],
      "source": [
        "import numpy as np\n",
        "import tensorflow as tf\n",
        "import matplotlib.pyplot as plt\n",
        "import pathlib\n",
        "\n",
        "from sklearn.metrics import confusion_matrix, accuracy_score\n",
        "from keras.preprocessing import image\n",
        "from keras.backend import reverse\n",
        "from keras.models import Sequential, load_model\n",
        "from keras.layers import Dense, Conv2D, MaxPool2D, Flatten, Rescaling\n",
        "from keras.optimizers import Adam\n",
        "from keras.utils import load_img\n",
        "from keras.utils import img_to_array\n",
        "from keras.utils import get_file\n",
        "from keras.utils import image_dataset_from_directory #  https://www.tensorflow.org/api_docs/python/tf/keras/utils/image_dataset_from_directory"
      ]
    },
    {
      "cell_type": "code",
      "source": [
        "from google.colab import drive\n",
        "drive.mount('/content/gdrive')"
      ],
      "metadata": {
        "colab": {
          "base_uri": "https://localhost:8080/"
        },
        "id": "QWxuVwWWXXOL",
        "outputId": "2fcc04af-4b20-4bcf-e3ca-1d78e1b4f77c"
      },
      "execution_count": 64,
      "outputs": [
        {
          "output_type": "stream",
          "name": "stdout",
          "text": [
            "Drive already mounted at /content/gdrive; to attempt to forcibly remount, call drive.mount(\"/content/gdrive\", force_remount=True).\n"
          ]
        }
      ]
    },
    {
      "cell_type": "code",
      "execution_count": 65,
      "metadata": {
        "id": "rN-Pc6Zd6awg",
        "colab": {
          "base_uri": "https://localhost:8080/"
        },
        "outputId": "06f5b869-508c-4bf3-9a4b-97f5167faaa6"
      },
      "outputs": [
        {
          "output_type": "stream",
          "name": "stdout",
          "text": [
            "/root/.keras/datasets/flower_photos contains 3670 images\n"
          ]
        }
      ],
      "source": [
        "dataset_url = \"http://download.tensorflow.org/example_images/flower_photos.tgz\"\n",
        "data_dir = get_file(origin=dataset_url,\n",
        "                                   fname='flower_photos',\n",
        "                                   untar=True)\n",
        "data_dir = pathlib.Path(data_dir)\n",
        "\n",
        "image_count = len(list(data_dir.glob('*/*.jpg')))\n",
        "print(F'{data_dir} contains {image_count} images')"
      ]
    },
    {
      "cell_type": "code",
      "source": [
        "batch_size=32\n",
        "color_mode='rgb'\n",
        "crop_to_aspect_ratio=True #resize the images without aspect ratio distortion\n",
        "img_height=256\n",
        "img_width=256\n",
        "interploration='nearest' #interpolation method used when resizing images\n",
        "kernel_size = (3,3)\n",
        "labels='inferred'\n",
        "label_mode='categorical' # labels are encoded as a categorical vector\n",
        "no_of_filters=28\n",
        "optimizer=Adam(learning_rate=0.001)\n",
        "seed=42\n",
        "shuffle=True\n",
        "validation_split=0.1"
      ],
      "metadata": {
        "id": "tGRj1ZTSL-g2"
      },
      "execution_count": 66,
      "outputs": []
    },
    {
      "cell_type": "code",
      "source": [
        "def make_dataset(subset_arg):\n",
        "  return image_dataset_from_directory(\n",
        "    data_dir,\n",
        "    labels=labels,\n",
        "    label_mode=label_mode, \n",
        "    color_mode=color_mode,\n",
        "    batch_size=batch_size,\n",
        "    image_size=(img_height, img_width),\n",
        "    shuffle=shuffle,\n",
        "    seed=seed,\n",
        "    validation_split=validation_split,\n",
        "    interpolation=interploration, \n",
        "    crop_to_aspect_ratio=crop_to_aspect_ratio,\n",
        "    subset=subset_arg,\n",
        "\n",
        "    #is data augmentation needed for this set?\n",
        "   \n",
        "    #shear_range = 0.2, \n",
        "    #zoom_range = 0.2, \n",
        "    #horizontal_flip = True \n",
        "  )"
      ],
      "metadata": {
        "id": "102D2wCuVoGt"
      },
      "execution_count": 67,
      "outputs": []
    },
    {
      "cell_type": "code",
      "source": [
        "train_set = make_dataset('training')\n",
        "val_set = make_dataset('validation')"
      ],
      "metadata": {
        "colab": {
          "base_uri": "https://localhost:8080/"
        },
        "id": "1xcDqN-HAymv",
        "outputId": "12cec594-541b-4abf-c410-ff83e311e8c6"
      },
      "execution_count": 68,
      "outputs": [
        {
          "output_type": "stream",
          "name": "stdout",
          "text": [
            "Found 3670 files belonging to 5 classes.\n",
            "Using 3303 files for training.\n",
            "Found 3670 files belonging to 5 classes.\n",
            "Using 367 files for validation.\n"
          ]
        }
      ]
    },
    {
      "cell_type": "code",
      "source": [
        "class_names=train_set.class_names\n",
        "no_of_classes=len(class_names)"
      ],
      "metadata": {
        "id": "oKm1sfGYhc8f"
      },
      "execution_count": 69,
      "outputs": []
    },
    {
      "cell_type": "code",
      "source": [
        "model = Sequential([\n",
        "    Rescaling(1./255),\n",
        "    Conv2D(no_of_filters, kernel_size, strides=2, activation='relu'),\n",
        "    MaxPool2D(),\n",
        "    Conv2D(no_of_filters, kernel_size, strides=2, activation='relu'),\n",
        "    MaxPool2D(),\n",
        "    Flatten(),\n",
        "    Dense(units=128, activation='relu'),\n",
        "    Dense(no_of_classes, activation='softmax')\n",
        "])"
      ],
      "metadata": {
        "id": "VqRg7tk8Aytx"
      },
      "execution_count": 70,
      "outputs": []
    },
    {
      "cell_type": "code",
      "source": [
        "model.compile(\n",
        "    optimizer=optimizer,\n",
        "    loss='categorical_crossentropy',\n",
        "    metrics=['categorical_accuracy']\n",
        ")"
      ],
      "metadata": {
        "id": "m31CNPWvAywx"
      },
      "execution_count": 71,
      "outputs": []
    },
    {
      "cell_type": "code",
      "source": [
        "model.fit(x=train_set, epochs=3)"
      ],
      "metadata": {
        "colab": {
          "base_uri": "https://localhost:8080/"
        },
        "id": "Sr4hreRNAyzR",
        "outputId": "bc6f6c8a-9a52-4471-c9fe-558cf7a368ca"
      },
      "execution_count": 72,
      "outputs": [
        {
          "output_type": "stream",
          "name": "stdout",
          "text": [
            "Epoch 1/3\n",
            "104/104 [==============================] - 51s 474ms/step - loss: 1.3605 - categorical_accuracy: 0.3903\n",
            "Epoch 2/3\n",
            "104/104 [==============================] - 47s 440ms/step - loss: 1.0517 - categorical_accuracy: 0.5743\n",
            "Epoch 3/3\n",
            "104/104 [==============================] - 45s 430ms/step - loss: 0.9321 - categorical_accuracy: 0.6391\n"
          ]
        },
        {
          "output_type": "execute_result",
          "data": {
            "text/plain": [
              "<keras.callbacks.History at 0x7fa18609b220>"
            ]
          },
          "metadata": {},
          "execution_count": 72
        }
      ]
    },
    {
      "cell_type": "code",
      "source": [
        "validation_result = model.evaluate(val_set)"
      ],
      "metadata": {
        "colab": {
          "base_uri": "https://localhost:8080/"
        },
        "id": "uF0jyxLNAy2C",
        "outputId": "8019bd3b-af1e-4aa6-a961-99f6975cbdbd"
      },
      "execution_count": 73,
      "outputs": [
        {
          "output_type": "stream",
          "name": "stdout",
          "text": [
            "12/12 [==============================] - 3s 132ms/step - loss: 0.9515 - categorical_accuracy: 0.6294\n"
          ]
        }
      ]
    },
    {
      "cell_type": "code",
      "source": [
        "def print_result(class_names, result):\n",
        "  \n",
        "  res_dict = dict(zip(class_names, result[0]))\n",
        "  res_sorted = dict(sorted(res_dict.items(), key=lambda item: item[1], reverse=True))\n",
        "\n",
        "  for k, v in res_sorted.items():\n",
        "      print(f'{k.ljust(20)} : {v:.5f}')"
      ],
      "metadata": {
        "id": "BHF7VfJoAy9K"
      },
      "execution_count": 74,
      "outputs": []
    },
    {
      "cell_type": "code",
      "source": [
        "@tf.autograph.experimental.do_not_convert\n",
        "def single_img_predict(img_path):\n",
        "  test_image = load_img(img_path, target_size=[img_height, img_width], color_mode=color_mode)\n",
        "  test_image = img_to_array(test_image)\n",
        "  test_image = np.expand_dims(test_image,axis=0)\n",
        "\n",
        "  result = model.predict(test_image/255.0)\n",
        "\n",
        "  print_result(class_names, result)"
      ],
      "metadata": {
        "id": "MEvzLDkfmHmN"
      },
      "execution_count": 75,
      "outputs": []
    },
    {
      "cell_type": "code",
      "source": [
        "print('daisy')\n",
        "single_img_predict('/root/.keras/datasets/flower_photos/daisy/1354396826_2868631432_m.jpg')\n",
        "print('')\n",
        "print('dandelion')\n",
        "single_img_predict('/root/.keras/datasets/flower_photos/dandelion/8647874151_aac8db2588_m.jpg')\n",
        "print('')\n",
        "print('roses')\n",
        "single_img_predict('/root/.keras/datasets/flower_photos/roses/3576488381_611f3446e0_n.jpg')\n",
        "print('')\n",
        "print('sunflowers')\n",
        "single_img_predict('/root/.keras/datasets/flower_photos/sunflowers/6122711533_2c219f0392_n.jpg')\n",
        "print('')\n",
        "print('tulips')\n",
        "single_img_predict('/root/.keras/datasets/flower_photos/tulips/518256494_368a72db37.jpg')"
      ],
      "metadata": {
        "colab": {
          "base_uri": "https://localhost:8080/"
        },
        "id": "YarNjuwGoops",
        "outputId": "5a4eba3b-79c7-4362-c15d-dfa9045a1dbf"
      },
      "execution_count": 76,
      "outputs": [
        {
          "output_type": "stream",
          "name": "stdout",
          "text": [
            "daisy\n",
            "1/1 [==============================] - 0s 75ms/step\n",
            "roses                : 0.26790\n",
            "sunflowers           : 0.21682\n",
            "dandelion            : 0.20828\n",
            "daisy                : 0.15605\n",
            "tulips               : 0.15095\n",
            "\n",
            "dandelion\n",
            "1/1 [==============================] - 0s 27ms/step\n",
            "roses                : 0.26790\n",
            "sunflowers           : 0.21682\n",
            "dandelion            : 0.20829\n",
            "daisy                : 0.15605\n",
            "tulips               : 0.15094\n",
            "\n",
            "roses\n",
            "1/1 [==============================] - 0s 23ms/step\n",
            "roses                : 0.26865\n",
            "sunflowers           : 0.21692\n",
            "dandelion            : 0.20789\n",
            "daisy                : 0.15573\n",
            "tulips               : 0.15081\n",
            "\n",
            "sunflowers\n",
            "1/1 [==============================] - 0s 35ms/step\n",
            "roses                : 0.26849\n",
            "sunflowers           : 0.21697\n",
            "dandelion            : 0.20802\n",
            "daisy                : 0.15582\n",
            "tulips               : 0.15070\n",
            "\n",
            "tulips\n",
            "1/1 [==============================] - 0s 23ms/step\n",
            "roses                : 0.27003\n",
            "sunflowers           : 0.21782\n",
            "dandelion            : 0.20721\n",
            "daisy                : 0.15489\n",
            "tulips               : 0.15005\n"
          ]
        }
      ]
    }
  ]
}