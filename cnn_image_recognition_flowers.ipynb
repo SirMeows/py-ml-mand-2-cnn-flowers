{
  "nbformat": 4,
  "nbformat_minor": 0,
  "metadata": {
    "colab": {
      "provenance": [],
      "mount_file_id": "12XaSq6D3AzsAeo6IYxWJU5zd0Edky17u",
      "authorship_tag": "ABX9TyOY0sJA/xcPSpt6m4a5SKiz",
      "include_colab_link": true
    },
    "kernelspec": {
      "name": "python3",
      "display_name": "Python 3"
    },
    "language_info": {
      "name": "python"
    }
  },
  "cells": [
    {
      "cell_type": "markdown",
      "metadata": {
        "id": "view-in-github",
        "colab_type": "text"
      },
      "source": [
        "<a href=\"https://colab.research.google.com/github/SirMeows/py-ml-mand-2-cnn-flowers/blob/main/cnn_image_recognition_flowers.ipynb\" target=\"_parent\"><img src=\"https://colab.research.google.com/assets/colab-badge.svg\" alt=\"Open In Colab\"/></a>"
      ]
    },
    {
      "cell_type": "code",
      "execution_count": 86,
      "metadata": {
        "id": "c1QnVhL4u_4D"
      },
      "outputs": [],
      "source": [
        "import numpy as np\n",
        "import tensorflow as tf\n",
        "import matplotlib.pyplot as plt\n",
        "import pathlib\n",
        "\n",
        "from sklearn.metrics import confusion_matrix, accuracy_score\n",
        "from keras.preprocessing import image\n",
        "from keras.backend import reverse\n",
        "from keras.models import Sequential, load_model\n",
        "from keras.layers import Dense, Conv2D, MaxPool2D, Flatten, Rescaling, RandomFlip,RandomRotation, RandomZoom\n",
        "from keras.optimizers import Adam\n",
        "from keras.utils import load_img\n",
        "from keras.utils import img_to_array\n",
        "from keras.utils import get_file\n",
        "from keras.utils import image_dataset_from_directory #  https://www.tensorflow.org/api_docs/python/tf/keras/utils/image_dataset_from_directory"
      ]
    },
    {
      "cell_type": "code",
      "source": [
        "from google.colab import drive\n",
        "drive.mount('/content/gdrive')"
      ],
      "metadata": {
        "colab": {
          "base_uri": "https://localhost:8080/"
        },
        "id": "QWxuVwWWXXOL",
        "outputId": "2fcc04af-4b20-4bcf-e3ca-1d78e1b4f77c"
      },
      "execution_count": 64,
      "outputs": [
        {
          "output_type": "stream",
          "name": "stdout",
          "text": [
            "Drive already mounted at /content/gdrive; to attempt to forcibly remount, call drive.mount(\"/content/gdrive\", force_remount=True).\n"
          ]
        }
      ]
    },
    {
      "cell_type": "code",
      "execution_count": 65,
      "metadata": {
        "id": "rN-Pc6Zd6awg",
        "colab": {
          "base_uri": "https://localhost:8080/"
        },
        "outputId": "06f5b869-508c-4bf3-9a4b-97f5167faaa6"
      },
      "outputs": [
        {
          "output_type": "stream",
          "name": "stdout",
          "text": [
            "/root/.keras/datasets/flower_photos contains 3670 images\n"
          ]
        }
      ],
      "source": [
        "dataset_url = \"http://download.tensorflow.org/example_images/flower_photos.tgz\"\n",
        "data_dir = get_file(origin=dataset_url,\n",
        "                                   fname='flower_photos',\n",
        "                                   untar=True)\n",
        "data_dir = pathlib.Path(data_dir)\n",
        "\n",
        "image_count = len(list(data_dir.glob('*/*.jpg')))\n",
        "print(F'{data_dir} contains {image_count} images')"
      ]
    },
    {
      "cell_type": "code",
      "source": [
        "batch_size=32\n",
        "color_mode='rgb'\n",
        "crop_to_aspect_ratio=True #resize the images without aspect ratio distortion\n",
        "epochs=5\n",
        "img_height=256\n",
        "img_width=256\n",
        "interploration='bicubic' #interpolation method used when resizing images\n",
        "kernel_size = (3,3)\n",
        "labels='inferred'\n",
        "label_mode='categorical' # labels are encoded as a categorical vector\n",
        "no_of_filters=28\n",
        "optimizer=Adam(learning_rate=0.001)\n",
        "seed=42\n",
        "shuffle=True\n",
        "validation_split=0.1"
      ],
      "metadata": {
        "id": "tGRj1ZTSL-g2"
      },
      "execution_count": 99,
      "outputs": []
    },
    {
      "cell_type": "code",
      "source": [
        "def make_dataset(subset_arg):\n",
        "  return image_dataset_from_directory(\n",
        "    data_dir,\n",
        "    labels=labels,\n",
        "    label_mode=label_mode, \n",
        "    color_mode=color_mode,\n",
        "    batch_size=batch_size,\n",
        "    image_size=(img_height, img_width),\n",
        "    shuffle=shuffle,\n",
        "    seed=seed,\n",
        "    validation_split=validation_split,\n",
        "    interpolation=interploration, \n",
        "    crop_to_aspect_ratio=crop_to_aspect_ratio,\n",
        "    subset=subset_arg,\n",
        "  )"
      ],
      "metadata": {
        "id": "102D2wCuVoGt"
      },
      "execution_count": 77,
      "outputs": []
    },
    {
      "cell_type": "code",
      "source": [
        "train_set = make_dataset('training')\n",
        "val_set = make_dataset('validation')"
      ],
      "metadata": {
        "colab": {
          "base_uri": "https://localhost:8080/"
        },
        "id": "1xcDqN-HAymv",
        "outputId": "12cec594-541b-4abf-c410-ff83e311e8c6"
      },
      "execution_count": 68,
      "outputs": [
        {
          "output_type": "stream",
          "name": "stdout",
          "text": [
            "Found 3670 files belonging to 5 classes.\n",
            "Using 3303 files for training.\n",
            "Found 3670 files belonging to 5 classes.\n",
            "Using 367 files for validation.\n"
          ]
        }
      ]
    },
    {
      "cell_type": "code",
      "source": [
        "class_names=train_set.class_names\n",
        "no_of_classes=len(class_names)"
      ],
      "metadata": {
        "id": "oKm1sfGYhc8f"
      },
      "execution_count": 69,
      "outputs": []
    },
    {
      "cell_type": "code",
      "source": [
        "model = Sequential([\n",
        "    Rescaling(1./255),\n",
        "    RandomFlip('horizontal'),\n",
        "    RandomRotation(0.1),\n",
        "    RandomZoom(0.1),\n",
        "    Conv2D(no_of_filters, kernel_size, strides=2, activation='relu'),\n",
        "    MaxPool2D(),\n",
        "    Conv2D(no_of_filters, kernel_size, strides=2, activation='relu'),\n",
        "    MaxPool2D(),\n",
        "    Conv2D(no_of_filters, kernel_size, strides=2, activation='relu'),\n",
        "    MaxPool2D(),\n",
        "    Flatten(),\n",
        "    Dense(units=500, activation='relu'),\n",
        "    Dense(no_of_classes, activation='softmax')\n",
        "])"
      ],
      "metadata": {
        "id": "VqRg7tk8Aytx"
      },
      "execution_count": 87,
      "outputs": []
    },
    {
      "cell_type": "code",
      "source": [
        "model.compile(\n",
        "    optimizer=optimizer,\n",
        "    loss='categorical_crossentropy',\n",
        "    metrics=['categorical_accuracy']\n",
        ")"
      ],
      "metadata": {
        "id": "m31CNPWvAywx"
      },
      "execution_count": 88,
      "outputs": []
    },
    {
      "cell_type": "code",
      "source": [
        "history = model.fit(x=train_set, validation_data=val_set, epochs=epochs)"
      ],
      "metadata": {
        "colab": {
          "base_uri": "https://localhost:8080/"
        },
        "id": "Sr4hreRNAyzR",
        "outputId": "69b50e8a-3516-4bf5-ec65-805e36c0b9aa"
      },
      "execution_count": 103,
      "outputs": [
        {
          "output_type": "stream",
          "name": "stdout",
          "text": [
            "Epoch 1/5\n",
            "104/104 [==============================] - 80s 759ms/step - loss: 0.7477 - categorical_accuracy: 0.7087 - val_loss: 0.8227 - val_categorical_accuracy: 0.6621\n",
            "Epoch 2/5\n",
            "104/104 [==============================] - 80s 759ms/step - loss: 0.7220 - categorical_accuracy: 0.7203 - val_loss: 0.8092 - val_categorical_accuracy: 0.6866\n",
            "Epoch 3/5\n",
            "104/104 [==============================] - 84s 796ms/step - loss: 0.7190 - categorical_accuracy: 0.7196 - val_loss: 0.7826 - val_categorical_accuracy: 0.6948\n",
            "Epoch 4/5\n",
            "104/104 [==============================] - 80s 759ms/step - loss: 0.6907 - categorical_accuracy: 0.7296 - val_loss: 0.7281 - val_categorical_accuracy: 0.7411\n",
            "Epoch 5/5\n",
            "104/104 [==============================] - 80s 762ms/step - loss: 0.6643 - categorical_accuracy: 0.7357 - val_loss: 0.7541 - val_categorical_accuracy: 0.7166\n"
          ]
        }
      ]
    },
    {
      "cell_type": "code",
      "source": [
        "validation_result = model.evaluate(val_set)"
      ],
      "metadata": {
        "colab": {
          "base_uri": "https://localhost:8080/"
        },
        "id": "uF0jyxLNAy2C",
        "outputId": "082c1b20-729f-4e8a-e19c-1c9eb31e49d1"
      },
      "execution_count": 104,
      "outputs": [
        {
          "output_type": "stream",
          "name": "stdout",
          "text": [
            "12/12 [==============================] - 3s 141ms/step - loss: 0.7541 - categorical_accuracy: 0.7166\n"
          ]
        }
      ]
    },
    {
      "cell_type": "code",
      "source": [
        "print(history.history.keys())\n",
        "#print(validation_result.history.keys())"
      ],
      "metadata": {
        "colab": {
          "base_uri": "https://localhost:8080/"
        },
        "id": "vCa2nfwvDFBj",
        "outputId": "540e4f64-093e-45e2-bff4-e1ee7e1e4ba1"
      },
      "execution_count": 105,
      "outputs": [
        {
          "output_type": "stream",
          "name": "stdout",
          "text": [
            "dict_keys(['loss', 'categorical_accuracy', 'val_loss', 'val_categorical_accuracy'])\n"
          ]
        }
      ]
    },
    {
      "cell_type": "code",
      "source": [
        "# https://colab.research.google.com/github/tensorflow/docs/blob/master/site/en/tutorials/images/classification.ipynb#scrollTo=jWnopEChMMCn&line=6&uniqifier=1\n",
        "\n",
        "acc = history.history['categorical_accuracy']\n",
        "#val_acc = history.history['val_accuracy']\n",
        "\n",
        "loss = history.history['loss']\n",
        "#val_loss = history.history['val_loss']\n",
        "\n",
        "epochs_range = range(epochs)\n",
        "\n",
        "plt.figure(figsize=(8, 8))\n",
        "plt.subplot(1, 2, 1)\n",
        "plt.plot(epochs_range, acc, label='Training Accuracy')\n",
        "#plt.plot(epochs_range, val_acc, label='Validation Accuracy')\n",
        "plt.legend(loc='lower right')\n",
        "plt.title('Training and Validation Accuracy')\n",
        "\n",
        "plt.subplot(1, 2, 2)\n",
        "plt.plot(epochs_range, loss, label='Training Loss')\n",
        "#plt.plot(epochs_range, val_loss, label='Validation Loss')\n",
        "plt.legend(loc='upper right')\n",
        "plt.title('Training and Validation Loss')\n",
        "plt.show()"
      ],
      "metadata": {
        "colab": {
          "base_uri": "https://localhost:8080/",
          "height": 499
        },
        "id": "TyJBDoJ8xM7n",
        "outputId": "0aa1393f-8bbb-4b07-c89f-a88bc78c153f"
      },
      "execution_count": 106,
      "outputs": [
        {
          "output_type": "display_data",
          "data": {
            "text/plain": [
              "<Figure size 576x576 with 2 Axes>"
            ],
            "image/png": "[encoded data removed]"
          },
          "metadata": {
            "needs_background": "light"
          }
        }
      ]
    },
    {
      "cell_type": "code",
      "source": [
        "def print_result(class_names, result):\n",
        "  \n",
        "  res_dict = dict(zip(class_names, result[0]))\n",
        "  res_sorted = dict(sorted(res_dict.items(), key=lambda item: item[1], reverse=True))\n",
        "\n",
        "  for k, v in res_sorted.items():\n",
        "      print(f'{k.ljust(20)} : {v:.5f}')"
      ],
      "metadata": {
        "id": "BHF7VfJoAy9K"
      },
      "execution_count": null,
      "outputs": []
    },
    {
      "cell_type": "code",
      "source": [
        "@tf.autograph.experimental.do_not_convert\n",
        "def single_img_predict(img_path):\n",
        "  test_image = load_img(img_path, target_size=[img_height, img_width], color_mode=color_mode)\n",
        "  test_image = img_to_array(test_image)\n",
        "  test_image = np.expand_dims(test_image,axis=0)\n",
        "\n",
        "  result = model.predict(test_image/255.0)\n",
        "\n",
        "  print_result(class_names, result)"
      ],
      "metadata": {
        "id": "MEvzLDkfmHmN"
      },
      "execution_count": null,
      "outputs": []
    },
    {
      "cell_type": "code",
      "source": [
        "print('daisy')\n",
        "single_img_predict('/root/.keras/datasets/flower_photos/daisy/1354396826_2868631432_m.jpg')\n",
        "print('')\n",
        "print('dandelion')\n",
        "single_img_predict('/root/.keras/datasets/flower_photos/dandelion/8647874151_aac8db2588_m.jpg')\n",
        "print('')\n",
        "print('roses')\n",
        "single_img_predict('/root/.keras/datasets/flower_photos/roses/3576488381_611f3446e0_n.jpg')\n",
        "print('')\n",
        "print('sunflowers')\n",
        "single_img_predict('/root/.keras/datasets/flower_photos/sunflowers/6122711533_2c219f0392_n.jpg')\n",
        "print('')\n",
        "print('tulips')\n",
        "single_img_predict('/root/.keras/datasets/flower_photos/tulips/518256494_368a72db37.jpg')"
      ],
      "metadata": {
        "id": "YarNjuwGoops"
      },
      "execution_count": null,
      "outputs": []
    }
  ]
}